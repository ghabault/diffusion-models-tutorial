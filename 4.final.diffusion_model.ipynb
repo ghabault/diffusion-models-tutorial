{
 "cells": [
  {
   "cell_type": "markdown",
   "id": "cbbf8944-5060-4244-a296-7a953cc73762",
   "metadata": {},
   "source": [
    "# putting it all together"
   ]
  },
  {
   "cell_type": "code",
   "execution_count": null,
   "id": "d46d48b1-b395-4ff7-89a3-51b109b81876",
   "metadata": {},
   "outputs": [],
   "source": []
  }
 ],
 "metadata": {
  "kernelspec": {
   "display_name": "Python 3 (ipykernel)",
   "language": "python",
   "name": "python3"
  },
  "language_info": {
   "codemirror_mode": {
    "name": "ipython",
    "version": 3
   },
   "file_extension": ".py",
   "mimetype": "text/x-python",
   "name": "python",
   "nbconvert_exporter": "python",
   "pygments_lexer": "ipython3",
   "version": "3.9.12"
  }
 },
 "nbformat": 4,
 "nbformat_minor": 5
}
