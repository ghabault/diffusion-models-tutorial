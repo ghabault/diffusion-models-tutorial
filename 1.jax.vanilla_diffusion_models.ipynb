{
 "cells": [
  {
   "cell_type": "markdown",
   "id": "eafd1346-81af-42ff-9b06-c2f18ea7c077",
   "metadata": {},
   "source": [
    "# density estimation using diffusion models\n",
    "\n",
    "1. We will experiment to generate simple distributions over 2 dimensions using diffusion models\n",
    "2. Following we will try to generate class conditioned distribution based on a simple labelling strategy"
   ]
  },
  {
   "cell_type": "code",
   "execution_count": 10,
   "id": "036d3573-00f4-45e9-a532-e6fb6ffe60b7",
   "metadata": {},
   "outputs": [
    {
     "ename": "ValueError",
     "evalue": "multivariate_normal requires cov.ndim >= 2, got cov.ndim == 1",
     "output_type": "error",
     "traceback": [
      "\u001b[0;31m---------------------------------------------------------------------------\u001b[0m",
      "\u001b[0;31mValueError\u001b[0m                                Traceback (most recent call last)",
      "Input \u001b[0;32mIn [10]\u001b[0m, in \u001b[0;36m<cell line: 11>\u001b[0;34m()\u001b[0m\n\u001b[1;32m      9\u001b[0m random \u001b[38;5;241m=\u001b[39m jax\u001b[38;5;241m.\u001b[39mrandom\u001b[38;5;241m.\u001b[39mPRNGKey(\u001b[38;5;241m42\u001b[39m)\n\u001b[1;32m     10\u001b[0m x \u001b[38;5;241m=\u001b[39m jax\u001b[38;5;241m.\u001b[39mrandom\u001b[38;5;241m.\u001b[39mnormal(key\u001b[38;5;241m=\u001b[39mrandom, shape\u001b[38;5;241m=\u001b[39m(\u001b[38;5;241m1\u001b[39m, samples))\u001b[38;5;241m*\u001b[39m\u001b[38;5;241m4.\u001b[39m\n\u001b[0;32m---> 11\u001b[0m y \u001b[38;5;241m=\u001b[39m \u001b[43mjax\u001b[49m\u001b[38;5;241;43m.\u001b[39;49m\u001b[43mrandom\u001b[49m\u001b[38;5;241;43m.\u001b[39;49m\u001b[43mmultivariate_normal\u001b[49m\u001b[43m(\u001b[49m\u001b[43mkey\u001b[49m\u001b[38;5;241;43m=\u001b[39;49m\u001b[43mrandom\u001b[49m\u001b[43m,\u001b[49m\u001b[43m \u001b[49m\u001b[43mmean\u001b[49m\u001b[38;5;241;43m=\u001b[39;49m\u001b[38;5;241;43m0.25\u001b[39;49m\u001b[38;5;241;43m*\u001b[39;49m\u001b[43mjnp\u001b[49m\u001b[38;5;241;43m.\u001b[39;49m\u001b[43mones\u001b[49m\u001b[43m(\u001b[49m\u001b[43msamples\u001b[49m\u001b[43m)\u001b[49m\u001b[38;5;241;43m*\u001b[39;49m\u001b[43mx\u001b[49m\u001b[38;5;241;43m*\u001b[39;49m\u001b[43mx\u001b[49m\u001b[43m,\u001b[49m\u001b[43m \u001b[49m\u001b[43mcov\u001b[49m\u001b[38;5;241;43m=\u001b[39;49m\u001b[43mjnp\u001b[49m\u001b[38;5;241;43m.\u001b[39;49m\u001b[43mones\u001b[49m\u001b[43m(\u001b[49m\u001b[43msamples\u001b[49m\u001b[43m)\u001b[49m\u001b[38;5;241;43m*\u001b[39;49m\u001b[38;5;241;43m*\u001b[39;49m\u001b[38;5;241;43m2\u001b[39;49m\u001b[43m)\u001b[49m\n\u001b[1;32m     13\u001b[0m plt\u001b[38;5;241m.\u001b[39mscatter(y,x)\n\u001b[1;32m     14\u001b[0m plt\u001b[38;5;241m.\u001b[39mxlim([\u001b[38;5;241m-\u001b[39m\u001b[38;5;241m5\u001b[39m, \u001b[38;5;241m50\u001b[39m])\n",
      "File \u001b[0;32m~/miniconda3/envs/jax-haiku-optax-ubuntu/lib/python3.10/site-packages/jax/_src/random.py:621\u001b[0m, in \u001b[0;36mmultivariate_normal\u001b[0;34m(key, mean, cov, shape, dtype, method)\u001b[0m\n\u001b[1;32m    619\u001b[0m \u001b[38;5;28;01mif\u001b[39;00m shape \u001b[38;5;129;01mis\u001b[39;00m \u001b[38;5;129;01mnot\u001b[39;00m \u001b[38;5;28;01mNone\u001b[39;00m:\n\u001b[1;32m    620\u001b[0m   shape \u001b[38;5;241m=\u001b[39m core\u001b[38;5;241m.\u001b[39mcanonicalize_shape(shape)\n\u001b[0;32m--> 621\u001b[0m \u001b[38;5;28;01mreturn\u001b[39;00m \u001b[43m_multivariate_normal\u001b[49m\u001b[43m(\u001b[49m\u001b[43mkey\u001b[49m\u001b[43m,\u001b[49m\u001b[43m \u001b[49m\u001b[43mmean\u001b[49m\u001b[43m,\u001b[49m\u001b[43m \u001b[49m\u001b[43mcov\u001b[49m\u001b[43m,\u001b[49m\u001b[43m \u001b[49m\u001b[43mshape\u001b[49m\u001b[43m,\u001b[49m\u001b[43m \u001b[49m\u001b[43mdtype\u001b[49m\u001b[43m,\u001b[49m\u001b[43m \u001b[49m\u001b[43mmethod\u001b[49m\u001b[43m)\u001b[49m\n",
      "    \u001b[0;31m[... skipping hidden 11 frame]\u001b[0m\n",
      "File \u001b[0;32m~/miniconda3/envs/jax-haiku-optax-ubuntu/lib/python3.10/site-packages/jax/_src/random.py:630\u001b[0m, in \u001b[0;36m_multivariate_normal\u001b[0;34m(key, mean, cov, shape, dtype, method)\u001b[0m\n\u001b[1;32m    628\u001b[0m \u001b[38;5;28;01mif\u001b[39;00m \u001b[38;5;129;01mnot\u001b[39;00m np\u001b[38;5;241m.\u001b[39mndim(cov) \u001b[38;5;241m>\u001b[39m\u001b[38;5;241m=\u001b[39m \u001b[38;5;241m2\u001b[39m:\n\u001b[1;32m    629\u001b[0m   msg \u001b[38;5;241m=\u001b[39m \u001b[38;5;124m\"\u001b[39m\u001b[38;5;124mmultivariate_normal requires cov.ndim >= 2, got cov.ndim == \u001b[39m\u001b[38;5;132;01m{}\u001b[39;00m\u001b[38;5;124m\"\u001b[39m\n\u001b[0;32m--> 630\u001b[0m   \u001b[38;5;28;01mraise\u001b[39;00m \u001b[38;5;167;01mValueError\u001b[39;00m(msg\u001b[38;5;241m.\u001b[39mformat(np\u001b[38;5;241m.\u001b[39mndim(cov)))\n\u001b[1;32m    631\u001b[0m n \u001b[38;5;241m=\u001b[39m mean\u001b[38;5;241m.\u001b[39mshape[\u001b[38;5;241m-\u001b[39m\u001b[38;5;241m1\u001b[39m]\n\u001b[1;32m    632\u001b[0m \u001b[38;5;28;01mif\u001b[39;00m np\u001b[38;5;241m.\u001b[39mshape(cov)[\u001b[38;5;241m-\u001b[39m\u001b[38;5;241m2\u001b[39m:] \u001b[38;5;241m!=\u001b[39m (n, n):\n",
      "\u001b[0;31mValueError\u001b[0m: multivariate_normal requires cov.ndim >= 2, got cov.ndim == 1"
     ]
    }
   ],
   "source": [
    "import jax\n",
    "import optax\n",
    "import haiku\n",
    "import jax.numpy as jnp\n",
    "\n",
    "from matplotlib import pyplot as plt\n",
    "\n",
    "samples = 1024*128\n",
    "random = jax.random.PRNGKey(42)\n",
    "x = jax.random.normal(key=random, shape=(1, samples))*4.\n",
    "y = jax.random.multivariate_normal(key=random, mean=0.25*jnp.ones(samples)*x*x, cov=jnp.ones(samples)**2)\n",
    "\n",
    "plt.scatter(y,x)\n",
    "plt.xlim([-5, 50])\n",
    "plt.ylim([-20, 20])"
   ]
  },
  {
   "cell_type": "code",
   "execution_count": null,
   "id": "40f9f760-f8d7-4e11-90cf-f88cbbc6d95b",
   "metadata": {},
   "outputs": [],
   "source": [
    "def net_fn():\n",
    "  pass\n",
    "\n",
    "def loss():\n",
    "  pass\n",
    "\n",
    "def grad_update():\n",
    "  pass"
   ]
  }
 ],
 "metadata": {
  "kernelspec": {
   "display_name": "Python 3 (ipykernel)",
   "language": "python",
   "name": "python3"
  },
  "language_info": {
   "codemirror_mode": {
    "name": "ipython",
    "version": 3
   },
   "file_extension": ".py",
   "mimetype": "text/x-python",
   "name": "python",
   "nbconvert_exporter": "python",
   "pygments_lexer": "ipython3",
   "version": "3.9.12"
  }
 },
 "nbformat": 4,
 "nbformat_minor": 5
}
