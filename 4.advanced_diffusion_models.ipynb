{
 "cells": [
  {
   "cell_type": "markdown",
   "id": "27ddc3c6-eee2-4942-a40c-f28658399949",
   "metadata": {},
   "source": [
    "# Incorporating additional concepts \n",
    "\n",
    "1. Speeding up sampling -- \n",
    "    * implicit models \n",
    "    * energy based models also may help generate samples faster\n",
    "    * generating denoised samples across multiple timesteps at the same time?\n",
    "2. time embedding concepts\n",
    "3. Learning the alphas, betas, variance params, hybrid loss etc\n",
    "    * modelling the SNR formulation"
   ]
  },
  {
   "cell_type": "code",
   "execution_count": null,
   "id": "e09e4d76-9f4a-4d7e-aead-0d30a274fc48",
   "metadata": {},
   "outputs": [],
   "source": []
  }
 ],
 "metadata": {
  "kernelspec": {
   "display_name": "Python 3 (ipykernel)",
   "language": "python",
   "name": "python3"
  },
  "language_info": {
   "codemirror_mode": {
    "name": "ipython",
    "version": 3
   },
   "file_extension": ".py",
   "mimetype": "text/x-python",
   "name": "python",
   "nbconvert_exporter": "python",
   "pygments_lexer": "ipython3",
   "version": "3.9.12"
  }
 },
 "nbformat": 4,
 "nbformat_minor": 5
}
