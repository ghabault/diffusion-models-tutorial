{
 "cells": [
  {
   "cell_type": "markdown",
   "id": "27ddc3c6-eee2-4942-a40c-f28658399949",
   "metadata": {},
   "source": [
    "# Incorporating additional concepts \n",
    "### (TODO:) add references\n",
    "\n",
    "1. Speeding up sampling -- \n",
    "    * implicit models -- assuming 0 variance in the generation step to speed up inference.\n",
    "2. Learning the alphas, betas, variance params, hybrid loss etc\n",
    "    * modelling the SNR formulation\n",
    "3.  Other improvements and experiments --    \n",
    "    * Learning variance for the reverse process\n",
    "    * Simplified objective where we get rid of the importance weight term in the loss function\n",
    "    * loss based scheduler where we seem more samples from timestep t if loss at timestep t is larger. This is done so that the model does a good job at predicting for larger timesteps, for the model it's difficult since the noise added is higher for larger timesteps.\n",
    "    * Learning the Variance of the reverse process\n",
    "    * Hybrid loss"
   ]
  },
  {
   "cell_type": "code",
   "execution_count": null,
   "id": "e09e4d76-9f4a-4d7e-aead-0d30a274fc48",
   "metadata": {},
   "outputs": [],
   "source": []
  }
 ],
 "metadata": {
  "kernelspec": {
   "display_name": "Python 3 (ipykernel)",
   "language": "python",
   "name": "python3"
  },
  "language_info": {
   "codemirror_mode": {
    "name": "ipython",
    "version": 3
   },
   "file_extension": ".py",
   "mimetype": "text/x-python",
   "name": "python",
   "nbconvert_exporter": "python",
   "pygments_lexer": "ipython3",
   "version": "3.9.12"
  }
 },
 "nbformat": 4,
 "nbformat_minor": 5
}
