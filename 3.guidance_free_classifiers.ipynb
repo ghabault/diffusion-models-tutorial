{
 "cells": [
  {
   "cell_type": "markdown",
   "id": "cbbf8944-5060-4244-a296-7a953cc73762",
   "metadata": {},
   "source": [
    "# Classifier free guidance \n",
    "\n",
    "\n",
    "1. Class conditioned diffusion models, classifier-free guidance\n",
    "    * using the score function interpretation\n",
    "    * semi-supervised example"
   ]
  },
  {
   "cell_type": "code",
   "execution_count": null,
   "id": "61a2a58d-e11a-4c3a-81e3-2cb239531a7f",
   "metadata": {},
   "outputs": [],
   "source": []
  }
 ],
 "metadata": {
  "kernelspec": {
   "display_name": "Python 3 (ipykernel)",
   "language": "python",
   "name": "python3"
  },
  "language_info": {
   "codemirror_mode": {
    "name": "ipython",
    "version": 3
   },
   "file_extension": ".py",
   "mimetype": "text/x-python",
   "name": "python",
   "nbconvert_exporter": "python",
   "pygments_lexer": "ipython3",
   "version": "3.9.12"
  }
 },
 "nbformat": 4,
 "nbformat_minor": 5
}
